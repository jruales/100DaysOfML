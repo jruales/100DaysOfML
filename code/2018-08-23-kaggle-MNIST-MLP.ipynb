{
  "cells": [
    {
      "metadata": {
        "_uuid": "8f2839f25d086af736a60e9eeb907d3b93b6e0e5",
        "_cell_guid": "b1076dfc-b9ad-4769-8c92-a6c4dae69d19",
        "trusted": true,
        "collapsed": true
      },
      "cell_type": "code",
      "source": "# This Python 3 environment comes with many helpful analytics libraries installed\n# It is defined by the kaggle/python docker image: https://github.com/kaggle/docker-python\n# For example, here's several helpful packages to load in \n\nimport numpy as np # linear algebra\nimport pandas as pd # data processing, CSV file I/O (e.g. pd.read_csv)\n#from sklearn.linear_model import LogisticRegression\nfrom sklearn.linear_model import SGDClassifier\nfrom sklearn.pipeline import Pipeline\nfrom sklearn.preprocessing import MinMaxScaler\nfrom sklearn.neural_network import MLPClassifier\nfrom sklearn.decomposition import PCA\nfrom matplotlib import pyplot as plt\nfrom sklearn.model_selection import cross_val_score\n\n# Input data files are available in the \"../input/\" directory.\n# For example, running this (by clicking run or pressing Shift+Enter) will list the files in the input directory\n\nimport os\nprint(os.listdir(\"../input\"))\n\n# Any results you write to the current directory are saved as output.",
      "execution_count": null,
      "outputs": []
    },
    {
      "metadata": {
        "_cell_guid": "79c7e3d0-c299-4dcb-8224-4455121ee9b0",
        "collapsed": true,
        "_uuid": "d629ff2d2480ee46fbb7e2d37f6b5fab8052498a",
        "trusted": true
      },
      "cell_type": "code",
      "source": "train_data = pd.read_csv(\"../input/train.csv\")\nX_train = train_data.iloc[:, 1:].values\ny_train = train_data.iloc[:, :1].values.reshape((-1,))\n\ntest_data = pd.read_csv(\"../input/test.csv\")\nX_test = test_data.values",
      "execution_count": null,
      "outputs": []
    },
    {
      "metadata": {
        "trusted": true,
        "_uuid": "b62cd5e32806f83bb94f4eb4e5d9bcb9929e0ae9",
        "scrolled": true,
        "collapsed": true
      },
      "cell_type": "code",
      "source": "plt.imshow(X_train[0, :].reshape((28, 28)))",
      "execution_count": null,
      "outputs": []
    },
    {
      "metadata": {
        "trusted": true,
        "_uuid": "1b83b314986fd6641f3323d207abf9ccf6afbbe7",
        "collapsed": true
      },
      "cell_type": "code",
      "source": "plt.imshow(X_test[0, :].reshape((28, 28)))",
      "execution_count": null,
      "outputs": []
    },
    {
      "metadata": {
        "trusted": true,
        "_uuid": "612cd0f8d745902bf05e2df988352e134fa68d66",
        "collapsed": true
      },
      "cell_type": "code",
      "source": "print(X_test.min(), X_test.max())",
      "execution_count": null,
      "outputs": []
    },
    {
      "metadata": {
        "trusted": true,
        "collapsed": true,
        "_uuid": "9f9b1326a0563edaa108ceb28d68775b210ab9cf"
      },
      "cell_type": "code",
      "source": "",
      "execution_count": null,
      "outputs": []
    },
    {
      "metadata": {
        "trusted": true,
        "_uuid": "9ab47b3e5c1126805fbe8281becd37baf47859c7",
        "collapsed": true
      },
      "cell_type": "code",
      "source": "pipeline = Pipeline([\n    ('MinMaxScaler', MinMaxScaler()),\n    ('Classifier', MLPClassifier())\n])",
      "execution_count": null,
      "outputs": []
    },
    {
      "metadata": {
        "trusted": true,
        "_uuid": "c7cfe06e217c22e428a0f2e238038ca6c31ca9bd",
        "collapsed": true
      },
      "cell_type": "code",
      "source": "#scores = cross_val_score(pipeline, X_train, y_train, cv=2)\n#scores",
      "execution_count": null,
      "outputs": []
    },
    {
      "metadata": {
        "trusted": true,
        "_uuid": "4e53cab05c519295e06f1e4917830a7fee10875c",
        "collapsed": true
      },
      "cell_type": "code",
      "source": "pipeline.fit(X_train, y_train)",
      "execution_count": null,
      "outputs": []
    },
    {
      "metadata": {
        "trusted": true,
        "_uuid": "14c785a2636bba5833456c38720e157b1bf065be",
        "collapsed": true
      },
      "cell_type": "code",
      "source": "y_test = pipeline.predict(X_test)",
      "execution_count": null,
      "outputs": []
    },
    {
      "metadata": {
        "trusted": true,
        "collapsed": true,
        "_uuid": "05fc9c2cb2b53a0f1f443633c18240c2e355bebb"
      },
      "cell_type": "code",
      "source": "data_to_submit = pd.DataFrame({\n    'ImageId':range(1, len(y_test)+1),\n    'Label':y_test\n})",
      "execution_count": null,
      "outputs": []
    },
    {
      "metadata": {
        "trusted": true,
        "_uuid": "67039352f438a86f76cce1dc7669991b67d31e75",
        "collapsed": true
      },
      "cell_type": "code",
      "source": "data_to_submit.to_csv('csv_to_submit.csv', index = False)",
      "execution_count": null,
      "outputs": []
    },
    {
      "metadata": {
        "trusted": true,
        "collapsed": true,
        "_uuid": "aa4769f24fe0f70cf35c300da74bd5dd6331f1ca"
      },
      "cell_type": "code",
      "source": "",
      "execution_count": null,
      "outputs": []
    }
  ],
  "metadata": {
    "kernelspec": {
      "display_name": "Python 3",
      "language": "python",
      "name": "python3"
    },
    "language_info": {
      "name": "python",
      "version": "3.6.6",
      "mimetype": "text/x-python",
      "codemirror_mode": {
        "name": "ipython",
        "version": 3
      },
      "pygments_lexer": "ipython3",
      "nbconvert_exporter": "python",
      "file_extension": ".py"
    }
  },
  "nbformat": 4,
  "nbformat_minor": 1
}